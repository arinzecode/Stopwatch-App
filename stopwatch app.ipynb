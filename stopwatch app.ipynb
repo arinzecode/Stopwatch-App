{
 "cells": [
  {
   "cell_type": "markdown",
   "id": "64843ec9",
   "metadata": {},
   "source": [
    "## Stopwatch APP"
   ]
  },
  {
   "cell_type": "code",
   "execution_count": 12,
   "id": "cb5c622b",
   "metadata": {},
   "outputs": [
    {
     "name": "stdout",
     "output_type": "stream",
     "text": [
      "> start\n",
      "> stop\n",
      "00:00:03\n"
     ]
    }
   ],
   "source": [
    "from timeit import default_timer as timer\n",
    "import time\n",
    "import datetime\n",
    "\n",
    "command = ''\n",
    "while True:\n",
    "    command = input('> ')\n",
    "    # start timer\n",
    "    if command == 'start':\n",
    "        start = timer()\n",
    "    # stop timer\n",
    "    elif command == 'stop':\n",
    "        stop = timer()\n",
    "        break\n",
    "\n",
    "time_recorded = stop - start\n",
    "\n",
    "structure_time_recorded = time.gmtime(time_recorded)\n",
    "final_result = time.strftime('%H:%M:%S', structure_time_recorded)\n",
    "print(final_result)\n",
    "\n",
    "\n"
   ]
  },
  {
   "cell_type": "code",
   "execution_count": null,
   "id": "29713f39",
   "metadata": {},
   "outputs": [],
   "source": []
  },
  {
   "cell_type": "code",
   "execution_count": null,
   "id": "58b61fcd",
   "metadata": {},
   "outputs": [],
   "source": []
  }
 ],
 "metadata": {
  "kernelspec": {
   "display_name": "Python 3 (ipykernel)",
   "language": "python",
   "name": "python3"
  },
  "language_info": {
   "codemirror_mode": {
    "name": "ipython",
    "version": 3
   },
   "file_extension": ".py",
   "mimetype": "text/x-python",
   "name": "python",
   "nbconvert_exporter": "python",
   "pygments_lexer": "ipython3",
   "version": "3.9.7"
  }
 },
 "nbformat": 4,
 "nbformat_minor": 5
}
